{
 "cells": [
  {
   "cell_type": "code",
   "execution_count": 2,
   "id": "9bed89b7",
   "metadata": {},
   "outputs": [
    {
     "name": "stdout",
     "output_type": "stream",
     "text": [
      "15\n",
      "{'player1': 30, 'wordNerd': 32, 'Lexi Con': 31, 'Proof Reader': 31}\n"
     ]
    }
   ],
   "source": [
    "letters = [\"A\", \"B\", \"C\", \"D\", \"E\", \"F\", \"G\", \"H\", \"I\", \"J\", \"K\", \"L\", \"M\", \"N\", \"O\", \"P\", \"Q\", \"R\", \"S\", \"T\", \"U\", \"V\", \"W\", \"X\", \"Y\", \"Z\"]\n",
    "points = [1, 3, 3, 2, 1, 4, 2, 4, 1, 8, 5, 1, 3, 4, 1, 3, 10, 1, 1, 1, 1, 4, 4, 8, 4, 10]\n",
    "\n",
    "letter_to_points = {key:value for key,value in zip(letters,points)}\n",
    "letter_to_points[' ']= 0\n",
    "# print(letter_to_points)\n",
    "def score_word(word):\n",
    "  points_total=0\n",
    "  for alpha in word:\n",
    "    points_total+= letter_to_points.get(alpha,0)\n",
    "  return points_total\n",
    "      \n",
    "brownie_points = score_word('BROWNIE')\n",
    "print(brownie_points)\n",
    "\n",
    "player_to_words ={\"player1\":['BLUES', 'TENNIS', 'EXIT'], 'wordNerd':['EARTH', 'EYES', 'MACHINE'], \"Lexi Con\":['ERASER', 'BELLY', 'HUSKY'], 'Proof Reader': ['ZAP', 'COMA', 'PERIOD']}\n",
    "player_to_points ={}\n",
    "for player, words in player_to_words.items():\n",
    "  player_points=0\n",
    "  # print(player)\n",
    "  # print(words)\n",
    "  for word in words:\n",
    "    player_points+=score_word(word)\n",
    "  player_to_points[player]=player_points\n",
    "print(player_to_points)\n"
   ]
  },
  {
   "cell_type": "code",
   "execution_count": null,
   "id": "ac5b0f62",
   "metadata": {},
   "outputs": [],
   "source": []
  }
 ],
 "metadata": {
  "kernelspec": {
   "display_name": "Python 3",
   "language": "python",
   "name": "python3"
  },
  "language_info": {
   "codemirror_mode": {
    "name": "ipython",
    "version": 3
   },
   "file_extension": ".py",
   "mimetype": "text/x-python",
   "name": "python",
   "nbconvert_exporter": "python",
   "pygments_lexer": "ipython3",
   "version": "3.8.8"
  }
 },
 "nbformat": 4,
 "nbformat_minor": 5
}
